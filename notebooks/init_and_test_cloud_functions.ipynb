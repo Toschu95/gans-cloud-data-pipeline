{
 "cells": [
  {
   "cell_type": "markdown",
   "id": "730cbcc9-fc16-4130-8413-feb0f1093440",
   "metadata": {},
   "source": [
    "# Paste main function"
   ]
  },
  {
   "cell_type": "code",
   "execution_count": 9,
   "id": "037af4a7-91f4-47e1-ae82-b33421a01061",
   "metadata": {},
   "outputs": [
    {
     "name": "stdout",
     "output_type": "stream",
     "text": [
      "Config loaded.\n"
     ]
    }
   ],
   "source": [
    "# Import required packages and modules\n",
    "import json\n",
    "import logging\n",
    "import functions_framework\n",
    "\n",
    "# Import helper functions\n",
    "from helper import load_weather_info_to_sql, load_flight_info_to_sql\n",
    "\n",
    "# Load config\n",
    "with open(\"config.json\", \"r\") as f:\n",
    "    config = json.load(f)\n",
    "    db_config = config[\"db_config\"]\n",
    "    api_config = config[\"api_config\"]\n",
    "    print(\"Config loaded.\")\n",
    "    \n",
    "@functions_framework.http\n",
    "def add_dynamic_data(request):\n",
    "    logging.info(\"Function execution started.\")\n",
    "\n",
    "    try:\n",
    "        # Load weather data into SQL\n",
    "        load_weather_info_to_sql(db_config, api_config)\n",
    "        logging.info(\"Weather data successfully loaded.\")\n",
    "\n",
    "        # Load flight data into SQL\n",
    "        load_flight_info_to_sql(db_config, api_config)\n",
    "        logging.info(\"Flight data successfully loaded.\")\n",
    "\n",
    "        return \"Success\", 200\n",
    "\n",
    "    except Exception as e:\n",
    "        logging.exception(\"An error occurred during function execution:\")\n",
    "        return f\"Error: {str(e)}\", 500"
   ]
  },
  {
   "cell_type": "markdown",
   "id": "05e751da-e8a7-4089-99fb-c31c87db4477",
   "metadata": {},
   "source": [
    "# Test request function locally"
   ]
  },
  {
   "cell_type": "code",
   "execution_count": 12,
   "id": "e8c278a5-3ae1-482d-8463-568f6bbf1620",
   "metadata": {},
   "outputs": [
    {
     "name": "stdout",
     "output_type": "stream",
     "text": [
      "API request failed for EDDT with status 204.\n",
      "API request failed for EDDT with status 204.\n",
      "API request failed for EGKR with status 204.\n",
      "API request failed for EGKR with status 204.\n",
      "API request failed for EHLE with status 204.\n",
      "API request failed for EHLE with status 204.\n",
      "API request failed for KCDW with status 204.\n",
      "API request failed for KCDW with status 204.\n",
      "API request failed for KFRG with status 204.\n",
      "API request failed for KFRG with status 204.\n",
      "API request failed for KMMU with status 204.\n",
      "API request failed for KMMU with status 204.\n",
      "API request failed for KTEB with status 204.\n",
      "API request failed for LFPB with status 204.\n",
      "API request failed for LFPB with status 204.\n",
      "('Success', 200)\n"
     ]
    }
   ],
   "source": [
    "# Import required module\n",
    "from flask import Request\n",
    "\n",
    "# Simulate request data\n",
    "request_data = {}\n",
    "request = Request.from_values(data=json.dumps(request_data))\n",
    " \n",
    "# Call the function and print the response\n",
    "response = add_dynamic_data(request)\n",
    "print(response)"
   ]
  }
 ],
 "metadata": {
  "kernelspec": {
   "display_name": "Python [conda env:base] *",
   "language": "python",
   "name": "conda-base-py"
  },
  "language_info": {
   "codemirror_mode": {
    "name": "ipython",
    "version": 3
   },
   "file_extension": ".py",
   "mimetype": "text/x-python",
   "name": "python",
   "nbconvert_exporter": "python",
   "pygments_lexer": "ipython3",
   "version": "3.12.7"
  }
 },
 "nbformat": 4,
 "nbformat_minor": 5
}
